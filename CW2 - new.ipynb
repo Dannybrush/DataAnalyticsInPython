{
 "cells": [
  {
   "cell_type": "markdown",
   "metadata": {},
   "source": [
    "# Python Coursework"
   ]
  },
  {
   "cell_type": "markdown",
   "metadata": {},
   "source": [
    "### Module Title:  Programming in Python for Data Science\n",
    "### Module Code: CS3PP19\n",
    "### Assignment report Title:\n",
    "### Student Number : 27016005\n",
    "### Date :  Pre 07/12/2020\n",
    "### Actual hrs spent for the assignment: 30+"
   ]
  },
  {
   "cell_type": "markdown",
   "metadata": {},
   "source": [
    "### Assignment evaluation :\n",
    "   ###### - More guidance could have been given on what was expected to be contained in the final submission.\n",
    "           \n",
    "   ###### - More guidance culd have been given on what tools we were expected to use (E.G. Seaborn vs MatPlotLib) \n",
    "While i know both of these points were deliberate to an extent, a more defined project proposal is always appreciated. \n",
    "   ###### - The assignment was interesting, useful and applicable to real world applications. \n",
    "The assignment allowed us to demonstrate skill which would be useful and applicable in a workplace environment.  Further more the assignment was well established and the relative skills were taught effectively thoughout the course."
   ]
  },
  {
   "cell_type": "markdown",
   "metadata": {},
   "source": [
    "# Task 2 - Data Clustering - Seed Shape Data"
   ]
  },
  {
   "cell_type": "markdown",
   "metadata": {},
   "source": [
    "# research and implementation: \n"
   ]
  },
  {
   "cell_type": "markdown",
   "metadata": {},
   "source": [
    "datapoint, attribute, variables,\n",
    "quantative data continuous variables -   complex networks\n",
    "\n",
    "k-means\n",
    "\n",
    "searches for a predetermined number of clusters - must be assigned in advance. \n",
    "\n",
    "\"Cluster Centre\" is arithmetic mean of all points belonging to the cluster.  \n",
    "Each point is closer to its won cluster centre than other cluster centres \n",
    "\n",
    "    Expectation - Maximisation approach (E-M): \n",
    "    Guess some cluster centres\n",
    "    Repeat until covered: \n",
    "        E-step: assign points to nearest cluster centre\n",
    "        M-step: set the cluster centre to means of assigned points\n",
    "\n",
    "\n",
    "agglomerative clustering  \n",
    "Gaussian Mixture models  \n",
    "DBSCAN  \n",
    "Spectral Clustering  \n",
    "\n"
   ]
  },
  {
   "cell_type": "code",
   "execution_count": 58,
   "metadata": {},
   "outputs": [],
   "source": [
    "%matplotlib inline\n",
    "import matplotlib.pyplot as plt\n",
    "import seaborn as sns; sns.set()\n",
    "import numpy as np"
   ]
  },
  {
   "cell_type": "code",
   "execution_count": 59,
   "metadata": {},
   "outputs": [],
   "source": [
    "from sklearn.cluster import KMeans"
   ]
  },
  {
   "cell_type": "markdown",
   "metadata": {},
   "source": [
    "#where x is data\n",
    "\n",
    "kmeans = kMeans(n_clusters = 4) #definition of model\n",
    "kmeans.fit(x) #training\n",
    "\n",
    "y_kmeans = kmeans.predict(x) #predicting\n",
    "plt.scatter(x[:,0],x[:,1], c = y_kmeans, s = 20, cmap = 'viridis')\n",
    "\n",
    "centers = kmeans.cluster_centers_ \n",
    "plt.scatter(centers[:,0],centers[:,1], c = 'black', s = 200, alpha = 0.5)\n"
   ]
  },
  {
   "cell_type": "markdown",
   "metadata": {},
   "source": [
    "## cluster center is mean\n"
   ]
  },
  {
   "cell_type": "code",
   "execution_count": 60,
   "metadata": {},
   "outputs": [
    {
     "ename": "SyntaxError",
     "evalue": "invalid syntax (<ipython-input-60-e0344923349f>, line 1)",
     "output_type": "error",
     "traceback": [
      "\u001b[1;36m  File \u001b[1;32m\"<ipython-input-60-e0344923349f>\"\u001b[1;36m, line \u001b[1;32m1\u001b[0m\n\u001b[1;33m    from scipy,spatial.distance import cdist\u001b[0m\n\u001b[1;37m              ^\u001b[0m\n\u001b[1;31mSyntaxError\u001b[0m\u001b[1;31m:\u001b[0m invalid syntax\n"
     ]
    }
   ],
   "source": [
    "\n",
    "from scipy,spatial.distance import cdist\n",
    "def plot plot_kmeans(kmeans, x, n_clusters = 4, rseed=0, ax = none):\n",
    "    labeps = kmeans.fit_predict(x)\n",
    "    \n",
    "    #ax = ax or plt.gca()\n",
    "    ax.axis('equal')\n",
    "    ax.scatter(x[;,0],x[;,1], c = labels, s =20, cmap = 'viridis', xorder = 2)\n",
    "    \n",
    "    # plot the representation of the kmeans model\n",
    "    centers = kmeans.cluster_centers_ \n",
    "    radii = [cdist(x[labels == i], [center]).max()\n",
    "            for i, center in enumerate(centers)]\n",
    "    for c, r, in zip(centers, radii):\n",
    "        ax.add_patch(plt.Circle(c,r,fc = '#CCCCCC', lw = 3, alpha=0.5, zorder = 1))\n",
    "        \n",
    "kmeans = KMeans(n_clusters= 4, random_state = 0 )\n",
    "plot_kmeans(kmeans, x)"
   ]
  },
  {
   "cell_type": "markdown",
   "metadata": {},
   "source": [
    "K means EM   \n",
    "under typical circumstances each repitition of E/ M will result in better / more accurate estimate of cluster characteristics.   \n",
    "\n",
    "limitations:   \n",
    "Global optimale may not be achieved due to randomness of initial definition.  \n",
    "the number of clusters must be selected beforehand.   \n",
    "is limited to linear cluster boundaries (not good at clustering data with complex geometries) (each data cluster is the same size)  \n",
    "Pros:   \n",
    "fast to implement.   \n",
    "good solution.  "
   ]
  },
  {
   "cell_type": "markdown",
   "metadata": {},
   "source": [
    "# finding the optimal number of clusters. \n",
    "Elbow method  \n",
    "analyse the behaviour of inertia (mean of sum of squared distances) value of the cluster  \n",
    "as k increases, SSE --> 0   \n",
    "\n",
    "find lower point on elbow"
   ]
  },
  {
   "cell_type": "code",
   "execution_count": null,
   "metadata": {},
   "outputs": [],
   "source": [
    "#List to store the metric value given different K values.\n",
    "inertia = []\n",
    "#Range of the different values of K to analyse\n",
    "K = range(2,10)\n",
    "for k in K:\n",
    "    km = KMeans(n_clusters = k)\n",
    "    km = km.fit(x)\n",
    "    inertia.append(km.inertia_)\n",
    "\n",
    "plt.plot(K, inertia)\n",
    "plt.xlabel('k')\n",
    "plt.ylabel('Initial')\n",
    "plt.title('Elbow Method For Optimal k')\n",
    "plt.show()"
   ]
  },
  {
   "cell_type": "markdown",
   "metadata": {},
   "source": [
    "Silhouette scores  \n",
    "from -1 to 1   \n",
    "1 :  instance is well inside own cluster, far from other clusters - aka correct  \n",
    "0: near boundary of cluster  \n",
    "-1: instance is outside cluster therefore assigned to wrong cluster  \n",
    "\n",
    "silhoutte score is the mean silhoutte of all instances,   \n",
    "silhoutte coefficient if (b-a)/max(a,b)  \n",
    "where a= mean distance to other instances in same cluster (mean intracluster distance)  \n",
    "b = mean nearest cluster distance (mena distance to all instances of next nearest cluster) defined by the cluster which minimises b.   \n"
   ]
  },
  {
   "cell_type": "code",
   "execution_count": null,
   "metadata": {},
   "outputs": [],
   "source": [
    "#import \n",
    "from sklearn-metrics import silhoutte_score\n",
    "#list to score metric from different k values. \n",
    "s_score []\n",
    "#range to anlayse\n",
    "K  = range(2,10)\n",
    "for k in K: \n",
    "kmeans = KMeans(n_clusters = k)\n",
    "kmeans.fit(x)s_score.append(silhoutte_score(x, kmeans.labels_))\n",
    "\n",
    "#plotting\n",
    "plt.plot(K, s_score)\n",
    "plt.xlabel('k')\n",
    "plt.ylabel('Silhoutte score')\n",
    "plt.title('Silhoutte Score analysis')\n",
    "plt.show()\n"
   ]
  },
  {
   "cell_type": "markdown",
   "metadata": {},
   "source": [
    "# START OF DOC "
   ]
  },
  {
   "cell_type": "markdown",
   "metadata": {},
   "source": [
    "#### importing all necessary  components - Processing"
   ]
  },
  {
   "cell_type": "code",
   "execution_count": 2,
   "metadata": {},
   "outputs": [],
   "source": [
    "%matplotlib inline\n",
    "import matplotlib.pyplot as plt\n",
    "import seaborn as sns; sns.set()\n",
    "import numpy as np"
   ]
  },
  {
   "cell_type": "markdown",
   "metadata": {},
   "source": [
    "#### importing all necessary  components - Importing"
   ]
  },
  {
   "cell_type": "code",
   "execution_count": 3,
   "metadata": {},
   "outputs": [],
   "source": [
    "import pandas as pd"
   ]
  },
  {
   "cell_type": "markdown",
   "metadata": {},
   "source": [
    "## Text goes here"
   ]
  },
  {
   "cell_type": "markdown",
   "metadata": {},
   "source": [
    "### Load the seeds.csv file into a Pandas data frame. "
   ]
  },
  {
   "cell_type": "code",
   "execution_count": 4,
   "metadata": {},
   "outputs": [
    {
     "name": "stdout",
     "output_type": "stream",
     "text": [
      "<class 'pandas.core.frame.DataFrame'>\n",
      "RangeIndex: 210 entries, 0 to 209\n",
      "Data columns (total 7 columns):\n",
      " #   Column         Non-Null Count  Dtype  \n",
      "---  ------         --------------  -----  \n",
      " 0   area           210 non-null    float64\n",
      " 1   perimeter      210 non-null    float64\n",
      " 2   compactness    210 non-null    float64\n",
      " 3   length         210 non-null    float64\n",
      " 4   width          210 non-null    float64\n",
      " 5   asymmetry      210 non-null    float64\n",
      " 6   groove length  210 non-null    float64\n",
      "dtypes: float64(7)\n",
      "memory usage: 11.6 KB\n"
     ]
    }
   ],
   "source": [
    "BASE_DIR = 'D:/Users/Danny/FROM C/Desktop/Datasets'\n",
    "seedSet = pd.read_csv(BASE_DIR+'/seeds.csv')\n",
    "seedSet.info()"
   ]
  },
  {
   "cell_type": "markdown",
   "metadata": {},
   "source": [
    "## Text goes here\n",
    "\n",
    "This shows that there are 210 entries (shown by RangeIndex: 0 to 209) and 7 attributes per entry. It also shows they are all in float64 format and no entries contain null or missing data. The significance of them being in float64 format means that they are all numeric values and processable by clustering algorithms."
   ]
  },
  {
   "cell_type": "code",
   "execution_count": 5,
   "metadata": {},
   "outputs": [],
   "source": [
    "from sklearn.cluster import KMeans"
   ]
  },
  {
   "cell_type": "markdown",
   "metadata": {},
   "source": [
    "## Text goes here\n",
    "This is importing the necessary functions needed to perform **KMeans** Calculations.\n",
    "**\"cluster\"** is a module available in the **\"scikit-learn\"** library, a machine learning library supporting functionalities such as classification, regression and clustering algorithms. The latter of which will be used through this process. It builds upon the **NumPy** and **SciPy** Libraries and interacts with **matplotlib** functions. \n",
    "The **\"cluster\"** library specifically handles the clustering functions; not all of which are needed, therefore only the **\"KMeans\"** related parts are imported. \n",
    "\n",
    "For more information on the **scikit-learn** library - see the official site and documentation: *https://scikit-learn.org/stable/*  \n",
    "For the code and further information visit the GitHub Repository: *https://github.com/scikit-learn/scikit-learn*\n",
    "\n",
    "For information on the **\"KMeans\"** section: *https://scikit-learn.org/stable/modules/generated/sklearn.cluster.KMeans.html*"
   ]
  },
  {
   "cell_type": "markdown",
   "metadata": {},
   "source": [
    "# Investigating the optimal number of clusters "
   ]
  },
  {
   "cell_type": "markdown",
   "metadata": {},
   "source": [
    "## Text goes here\n",
    "\n",
    "One downfall of the **K-Means** method of clustering, is that the number of clusters must be assigned before the algorithm is used, and therefore the number of clusters must also be known.   \n",
    "There are two main methods for evaluating the best number of clusters to sort the data into. \n",
    "The first and most commonly used is: **\"The Elbow Method\"**. The alternative is **\"The Silhouette Score method\"**.\n"
   ]
  },
  {
   "cell_type": "markdown",
   "metadata": {},
   "source": [
    "## The Elbow Method"
   ]
  },
  {
   "cell_type": "markdown",
   "metadata": {},
   "source": [
    "### Text\n",
    "\n",
    "**The Elbow Method** is a heuristic algorithm, and the most common method used for determining the number of clusters in a dataset. The method produces a plot which usually allows for easy visual interpretation of where the optimal number of clusters would be. The plot should produce a curve, and the \"elbow\" of the curve acts as the cutoff for the optimal solution. This is usually where the gradient of the curve has a dramatic change before decreasing significantly.    \n",
    "There is not always a clear elbow, if this is the case, further analysis can be performed."
   ]
  },
  {
   "cell_type": "code",
   "execution_count": 6,
   "metadata": {},
   "outputs": [],
   "source": [
    "#List to store the metric value given different K values.\n",
    "inertia = []\n",
    "#Range of the different values of K to analyse\n",
    "K = range(2,10)\n",
    "for k in K:\n",
    "    km = KMeans(n_clusters = k)\n",
    "    km = km.fit(seedSet)\n",
    "    inertia.append(km.inertia_)"
   ]
  },
  {
   "cell_type": "markdown",
   "metadata": {},
   "source": [
    "This code performs the training on the dataset for all instances of K, where K is the number of clusters, between 2 and 10.\n",
    "It then records the inertia to a list. From here the data can be plotted, and analysed visually. "
   ]
  },
  {
   "cell_type": "code",
   "execution_count": 7,
   "metadata": {},
   "outputs": [
    {
     "data": {
      "image/png": "[encoded data removed]",
      "text/plain": [
       "<Figure size 432x288 with 1 Axes>"
      ]
     },
     "metadata": {},
     "output_type": "display_data"
    }
   ],
   "source": [
    "plt.plot(K, inertia)\n",
    "plt.xlabel('k')\n",
    "plt.ylabel('Inertia')\n",
    "plt.title('Elbow Method For Optimal k')\n",
    "plt.show()"
   ]
  },
  {
   "cell_type": "markdown",
   "metadata": {},
   "source": [
    "### text\n",
    "A clear 'elbow' can be seen at **K = 3**, however K = 4 also demonstrates that it may yield an effective solution. Although the solution of **K = 3** seems like a suitable choice and is most likely the optimal solution, an argument could be made for K = 4 and confirming the correct number of clusters at this stage is critical to the process. For this reason, further analysis was completed, in the form of a Silhouette score analysis. "
   ]
  },
  {
   "cell_type": "markdown",
   "metadata": {},
   "source": [
    "### The Silhoutte Method"
   ]
  },
  {
   "cell_type": "markdown",
   "metadata": {},
   "source": [
    "### text \n",
    "The Silhouette method uses Silhouette Score analysis to produce a plot which again can be interpretted visually, on it's own, it is much harder to interpret than a plot derived using the elbow method, however when combined with the elbow plot, it allows a much larger insight into the estimate of the optimal number of clusters. \n",
    "\n",
    "The Silhouette method calculates a score for each iteration of the process and each value of K (again where K  is the number of clusters). These values lie between -1 and 1. Where:  \n",
    " 1 : instance is well inside own cluster, far from other clusters - aka correct  \n",
    " 0 : near boundary of cluster  \n",
    "-1 : instance is outside cluster therefore assigned to wrong cluster  \n",
    "  \n",
    "The silhouette score is the mean silhouette of all of the instances.  \n",
    "The Silhouette Coefficient is (b-a)/ max(a,b)  \n",
    "Where: A = The mean distance to other instances in the same cluster. (Mean Intracluster Distance)\n",
    "b = The mean \"Nearest Cluster\" distance. The mean distance to all instances of the next nearest cluster, which is defined by the cluster which minimises the value of b. "
   ]
  },
  {
   "cell_type": "code",
   "execution_count": 8,
   "metadata": {},
   "outputs": [],
   "source": [
    "#import \n",
    "from sklearn.metrics import silhouette_score\n",
    "#list to score metric from different k values. \n",
    "s_score = []\n",
    "#range to anlayse\n",
    "K  = range(2,10)\n",
    "for k in K: \n",
    "    kmeans = KMeans(n_clusters = k)\n",
    "    kmeans.fit(seedSet)\n",
    "    s_score.append(silhouette_score(seedSet, kmeans.labels_))"
   ]
  },
  {
   "cell_type": "markdown",
   "metadata": {},
   "source": [
    "This code first imports the necessary functions from the sklearn metrics library.  A list is then created in which the Silhouette scores will be stored. \n",
    "Then the Silhouette score is calculated for each instance of K from 2 to 10. This is then plotted.\n",
    "\n",
    "*N.B. The Silhouette Score Analysis graph will change slightly each time it is calculated due to the randomised starting value. However the Trend should stay approximately the same.*  "
   ]
  },
  {
   "cell_type": "code",
   "execution_count": 9,
   "metadata": {},
   "outputs": [
    {
     "data": {
      "image/png": "[encoded data removed]",
      "text/plain": [
       "<Figure size 432x288 with 1 Axes>"
      ]
     },
     "metadata": {},
     "output_type": "display_data"
    }
   ],
   "source": [
    "#plotting\n",
    "plt.plot(K, s_score)\n",
    "plt.xlabel('k')\n",
    "plt.ylabel('Silhoutte score')\n",
    "plt.title('Silhoutte Score analysis')\n",
    "plt.show()"
   ]
  },
  {
   "cell_type": "markdown",
   "metadata": {},
   "source": [
    "### Text \n",
    "As shown in the graph, there is a significant drop in Silhouette score between K = 3 and K = 4. This would suggest that the previous hypothesis of **K = 3** is correct for the optimal number of clusters for this seed dataset.  "
   ]
  },
  {
   "cell_type": "markdown",
   "metadata": {},
   "source": [
    "## Discussion of cluster number"
   ]
  },
  {
   "cell_type": "markdown",
   "metadata": {},
   "source": [
    "As shown above the **\"Elbow Method\"** produced a plot which strongly suggested the optimal number of clusters would be 3, however, from this graph alone, it could be proposed that 4 clusters could produce an efficient solution also. For this reason **\"Silhouette Score Analysis (SSA)\"** was performed on the same dataset. From this **SSA**, it was clearly visible that any more than three clusters resulted in a significant decrease in effectiveness, from these two processes together we can clearly confirm that **3** clusters yields the optimal solution. "
   ]
  },
  {
   "cell_type": "markdown",
   "metadata": {},
   "source": [
    "# Investigating into the dataset"
   ]
  },
  {
   "cell_type": "markdown",
   "metadata": {},
   "source": [
    "## Using the pearson's Correlation Coefficient\n",
    "In order to determine which two attributes were to be used to compute the clustering, first the pairwise correlation of columns was calculated. This shows how closely each column is correlated to the comparative column, where 1.00 = exact match, 0 = no correlation, and -1 = perfect negative correlation (as one increases the other decreases). \n",
    "\n",
    "The **pandas** function **\".corr(method = 'pearson')\"** will be used to compute an NxN table where N is the number of attributes. The table will be populated by the correlation value between the respective columns, calculated using the **\"Pearson Correlation Coefficient\"**"
   ]
  },
  {
   "cell_type": "code",
   "execution_count": 10,
   "metadata": {},
   "outputs": [
    {
     "data": {
      "text/html": [
       "<div>\n",
       "<style scoped>\n",
       "    .dataframe tbody tr th:only-of-type {\n",
       "        vertical-align: middle;\n",
       "    }\n",
       "\n",
       "    .dataframe tbody tr th {\n",
       "        vertical-align: top;\n",
       "    }\n",
       "\n",
       "    .dataframe thead th {\n",
       "        text-align: right;\n",
       "    }\n",
       "</style>\n",
       "<table border=\"1\" class=\"dataframe\">\n",
       "  <thead>\n",
       "    <tr style=\"text-align: right;\">\n",
       "      <th></th>\n",
       "      <th>area</th>\n",
       "      <th>perimeter</th>\n",
       "      <th>compactness</th>\n",
       "      <th>length</th>\n",
       "      <th>width</th>\n",
       "      <th>asymmetry</th>\n",
       "      <th>groove length</th>\n",
       "    </tr>\n",
       "  </thead>\n",
       "  <tbody>\n",
       "    <tr>\n",
       "      <th>area</th>\n",
       "      <td>1.000000</td>\n",
       "      <td>0.994341</td>\n",
       "      <td>0.609032</td>\n",
       "      <td>0.949985</td>\n",
       "      <td>0.970771</td>\n",
       "      <td>-0.229572</td>\n",
       "      <td>0.863693</td>\n",
       "    </tr>\n",
       "    <tr>\n",
       "      <th>perimeter</th>\n",
       "      <td>0.994341</td>\n",
       "      <td>1.000000</td>\n",
       "      <td>0.530036</td>\n",
       "      <td>0.972422</td>\n",
       "      <td>0.944829</td>\n",
       "      <td>-0.217340</td>\n",
       "      <td>0.890784</td>\n",
       "    </tr>\n",
       "    <tr>\n",
       "      <th>compactness</th>\n",
       "      <td>0.609032</td>\n",
       "      <td>0.530036</td>\n",
       "      <td>1.000000</td>\n",
       "      <td>0.368725</td>\n",
       "      <td>0.762159</td>\n",
       "      <td>-0.332585</td>\n",
       "      <td>0.227654</td>\n",
       "    </tr>\n",
       "    <tr>\n",
       "      <th>length</th>\n",
       "      <td>0.949985</td>\n",
       "      <td>0.972422</td>\n",
       "      <td>0.368725</td>\n",
       "      <td>1.000000</td>\n",
       "      <td>0.860415</td>\n",
       "      <td>-0.171562</td>\n",
       "      <td>0.932806</td>\n",
       "    </tr>\n",
       "    <tr>\n",
       "      <th>width</th>\n",
       "      <td>0.970771</td>\n",
       "      <td>0.944829</td>\n",
       "      <td>0.762159</td>\n",
       "      <td>0.860415</td>\n",
       "      <td>1.000000</td>\n",
       "      <td>-0.258036</td>\n",
       "      <td>0.749131</td>\n",
       "    </tr>\n",
       "    <tr>\n",
       "      <th>asymmetry</th>\n",
       "      <td>-0.229572</td>\n",
       "      <td>-0.217340</td>\n",
       "      <td>-0.332585</td>\n",
       "      <td>-0.171562</td>\n",
       "      <td>-0.258036</td>\n",
       "      <td>1.000000</td>\n",
       "      <td>-0.011079</td>\n",
       "    </tr>\n",
       "    <tr>\n",
       "      <th>groove length</th>\n",
       "      <td>0.863693</td>\n",
       "      <td>0.890784</td>\n",
       "      <td>0.227654</td>\n",
       "      <td>0.932806</td>\n",
       "      <td>0.749131</td>\n",
       "      <td>-0.011079</td>\n",
       "      <td>1.000000</td>\n",
       "    </tr>\n",
       "  </tbody>\n",
       "</table>\n",
       "</div>"
      ],
      "text/plain": [
       "                   area  perimeter  compactness    length     width  \\\n",
       "area           1.000000   0.994341     0.609032  0.949985  0.970771   \n",
       "perimeter      0.994341   1.000000     0.530036  0.972422  0.944829   \n",
       "compactness    0.609032   0.530036     1.000000  0.368725  0.762159   \n",
       "length         0.949985   0.972422     0.368725  1.000000  0.860415   \n",
       "width          0.970771   0.944829     0.762159  0.860415  1.000000   \n",
       "asymmetry     -0.229572  -0.217340    -0.332585 -0.171562 -0.258036   \n",
       "groove length  0.863693   0.890784     0.227654  0.932806  0.749131   \n",
       "\n",
       "               asymmetry  groove length  \n",
       "area           -0.229572       0.863693  \n",
       "perimeter      -0.217340       0.890784  \n",
       "compactness    -0.332585       0.227654  \n",
       "length         -0.171562       0.932806  \n",
       "width          -0.258036       0.749131  \n",
       "asymmetry       1.000000      -0.011079  \n",
       "groove length  -0.011079       1.000000  "
      ]
     },
     "execution_count": 10,
     "metadata": {},
     "output_type": "execute_result"
    }
   ],
   "source": [
    "seedSet.corr(method = 'pearson')"
   ]
  },
  {
   "cell_type": "code",
   "execution_count": 11,
   "metadata": {},
   "outputs": [],
   "source": [
    "samples = seedSet.values"
   ]
  },
  {
   "cell_type": "code",
   "execution_count": null,
   "metadata": {},
   "outputs": [],
   "source": []
  },
  {
   "cell_type": "code",
   "execution_count": null,
   "metadata": {},
   "outputs": [],
   "source": []
  },
  {
   "cell_type": "code",
   "execution_count": null,
   "metadata": {},
   "outputs": [],
   "source": []
  },
  {
   "cell_type": "code",
   "execution_count": null,
   "metadata": {},
   "outputs": [],
   "source": []
  },
  {
   "cell_type": "code",
   "execution_count": null,
   "metadata": {},
   "outputs": [],
   "source": []
  },
  {
   "cell_type": "code",
   "execution_count": 32,
   "metadata": {},
   "outputs": [],
   "source": [
    "#where x is data\n",
    "kmeans = KMeans(n_clusters = 3) #definition of model\n",
    "kmeans.fit(samples) #training\n",
    "y_kmeans = kmeans.predict(samples) #predicting"
   ]
  },
  {
   "cell_type": "code",
   "execution_count": 39,
   "metadata": {},
   "outputs": [
    {
     "data": {
      "text/plain": [
       "<matplotlib.collections.PathCollection at 0x24097704eb0>"
      ]
     },
     "execution_count": 39,
     "metadata": {},
     "output_type": "execute_result"
    },
    {
     "data": {
      "image/png": "[encoded data removed]",
      "text/plain": [
       "<Figure size 432x288 with 1 Axes>"
      ]
     },
     "metadata": {},
     "output_type": "display_data"
    }
   ],
   "source": [
    "plt.scatter(samples[:, 0], samples[:, 1], c=y_kmeans, s=2, cmap='viridis')\n",
    "\n",
    "centers = kmeans.cluster_centers_ \n",
    "plt.scatter(centers[:,0],centers[:,1], c = 'black', s = 200, alpha = 0.5)"
   ]
  },
  {
   "cell_type": "code",
   "execution_count": 40,
   "metadata": {},
   "outputs": [
    {
     "data": {
      "image/png": "[encoded data removed]",
      "text/plain": [
       "<Figure size 432x288 with 1 Axes>"
      ]
     },
     "metadata": {},
     "output_type": "display_data"
    }
   ],
   "source": [
    "plt.scatter(samples[:, 0], samples[:, 1], c=y_kmeans, s=10, cmap='viridis')\n",
    "centers = kmeans.cluster_centers_\n",
    "plt.scatter(centers[:, 0], centers[:, 1], c='black', s=200, alpha=0.5);"
   ]
  },
  {
   "cell_type": "code",
   "execution_count": 41,
   "metadata": {},
   "outputs": [],
   "source": [
    "from scipy.spatial.distance import cdist\n",
    "\n",
    "def plot_kmeans(kmeans, x, n_clusters = 3, rseed=0, ax = None):\n",
    "    labels = kmeans.fit_predict(x)\n",
    "    \n",
    "    ax = ax or plt.gca()\n",
    "    ax.axis('equal')\n",
    "    ax.scatter(x[:,0],x[:,1], c = labels, s =10, cmap = 'viridis', zorder = 2)\n",
    "    \n",
    "    # plot the representation of the kmeans model\n",
    "    centers = kmeans.cluster_centers_ \n",
    "    radii = [cdist(x[labels == i], [center]).max()\n",
    "            for i, center in enumerate(centers)]\n",
    "    for c, r, in zip(centers, radii):\n",
    "        ax.add_patch(plt.Circle(c,r,fc = '#CCCCCC', lw = 3, alpha=0.5, zorder = 1))"
   ]
  },
  {
   "cell_type": "code",
   "execution_count": 42,
   "metadata": {},
   "outputs": [
    {
     "data": {
      "image/png": "[encoded data removed]",
      "text/plain": [
       "<Figure size 432x288 with 1 Axes>"
      ]
     },
     "metadata": {},
     "output_type": "display_data"
    }
   ],
   "source": [
    "kmeans = KMeans(n_clusters= 3, random_state = 0 )\n",
    "plot_kmeans(kmeans, samples)"
   ]
  },
  {
   "cell_type": "code",
   "execution_count": 37,
   "metadata": {},
   "outputs": [
    {
     "data": {
      "image/png": "[encoded data removed]",
      "text/plain": [
       "<Figure size 432x288 with 1 Axes>"
      ]
     },
     "metadata": {},
     "output_type": "display_data"
    }
   ],
   "source": [
    "plt.scatter(samples[:, 0], samples[:, 1], c=y_kmeans, s=20, cmap='viridis')\n",
    "centers = kmeans.cluster_centers_\n",
    "plt.scatter(centers[:, 0], centers[:, 1], c='black', s=200, alpha=0.5);"
   ]
  },
  {
   "cell_type": "code",
   "execution_count": null,
   "metadata": {},
   "outputs": [],
   "source": []
  },
  {
   "cell_type": "code",
   "execution_count": null,
   "metadata": {},
   "outputs": [],
   "source": []
  }
 ],
 "metadata": {
  "kernelspec": {
   "display_name": "Python 3",
   "language": "python",
   "name": "python3"
  },
  "language_info": {
   "codemirror_mode": {
    "name": "ipython",
    "version": 3
   },
   "file_extension": ".py",
   "mimetype": "text/x-python",
   "name": "python",
   "nbconvert_exporter": "python",
   "pygments_lexer": "ipython3",
   "version": "3.8.3"
  }
 },
 "nbformat": 4,
 "nbformat_minor": 4
}
